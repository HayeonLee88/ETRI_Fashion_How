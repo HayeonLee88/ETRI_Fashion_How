{
 "cells": [
  {
   "cell_type": "markdown",
   "id": "55b4a5a2",
   "metadata": {},
   "source": [
    "## sub-task 2 제출 스크립트\n",
    "ETRI FASHION-HOW Season 5 task2 제출코드입니다.\n",
    "#### 주의: 반드시 본 파일을 이용하여 제출을 수행해야 하며 파일의 이름은 task.ipynb로 유지되어야 합니다.\n",
    "- 작성하신 추론용 코드(예: test.py)를 본 스크립트 내의 etri_task2_submit() 함수로 작동되게끔 삽입하는 것으로 결과 제출을 수행할 수 있습니다.\n",
    "코드는 크게 4가지 파트로 구성되며, 해당 파트의 특성을 지켜서 내용을 편집하시면 되겠습니다.\n",
    "1. 제출용 aifactory 라이브러리 설치\n",
    "2. etri_task2_submit() 함수 편집 (추론 스크립트)\n",
    "3. submit() 함수로 wrapping\n",
    "4. if __name__ == \"__main__\" 조건문을 이용한 제출 수행\n",
    "\n",
    "※ 가능하면 제출시에는 포함되어 있는 train data를 폴더에서 제외하고 제출하시는 편이 좋습니다.\n",
    "- 파일 크기 감소 → 업로드 시간 감소 → 전체 추론 수행 시간 감소"
   ]
  },
  {
   "cell_type": "markdown",
   "id": "59a3ab06",
   "metadata": {},
   "source": [
    "### 1. 제출용 aifactory 라이브러리 설치\n",
    "#### 결과 전송에 필요하므로 아래와 같이 aifactory 라이브러리가 반드시 최신버전으로 설치될 수 있게끔 합니다"
   ]
  },
  {
   "cell_type": "code",
   "execution_count": null,
   "id": "d7f3f0fa",
   "metadata": {
    "scrolled": true
   },
   "outputs": [],
   "source": [
    "!pip install -U aifactory"
   ]
  },
  {
   "cell_type": "markdown",
   "id": "0292adea",
   "metadata": {
    "jp-MarkdownHeadingCollapsed": true
   },
   "source": [
    "### 2. etri_task2_submit() 함수 편집 (추론 스크립트)\n",
    "#### etri_task2_submit() 편집 시 주의사항\n",
    "\n",
    "1. 아래 etri_task2_submit() 함수 내에 전체 추론 실행 코드를 삽입하고 결과를 dataframe으로 return하게끔 구성\n",
    "   - Baseline이 아닌 다른 모델을 사용하는 경우에도 동일\n",
    "2. 함수 내에서는 import * 가 적용되지 않으므로 필요한 import object를 직접 입력\n",
    "   - 반드시 함수 내에서 import가 이루어져야 합니다.\n",
    "3. argparse 사용시 args, _ = parser.parse_known_args()로 인자 지정\n",
    "   args = parser.parse_args()는 jupyter에서 오류가 발생합니다!!!\n",
    "4. 모델 내부의 경로는 ./ 으로 경로를 지정합니다. (예: weight 파일 경로 = ./model/...)\n",
    "5. 데이터는 **/aif/Dataset/** 경로 아래에 있습니다. (코드 내용 참조) \n",
    "6. return할 결과물과 양식에 유의합니다."
   ]
  },
  {
   "cell_type": "code",
   "execution_count": null,
   "id": "77d05b4d",
   "metadata": {},
   "outputs": [],
   "source": [
    "def etri_task2_submit():\n",
    "\n",
    "    from dataset import ETRIDataset_color\n",
    "    from networks import Quantizable_ResNet_color\n",
    "\n",
    "    import pandas as pd\n",
    "    import numpy as np\n",
    "    from sklearn.metrics import confusion_matrix\n",
    "\n",
    "    import torch\n",
    "    import torch.utils.data\n",
    "    import torch.utils.data.distributed\n",
    "    import torchvision\n",
    "    import torch.nn as nn\n",
    "\n",
    "    DEVICE = torch.device('cuda' if torch.cuda.is_available() else 'cpu')\n",
    "\n",
    "    \"\"\" The main function of the test process for performance measurement. \"\"\"\n",
    "\n",
    "    ''' Quantizable ResNet50 '''\n",
    "    net_int = Quantizable_ResNet_color('50')\n",
    "\n",
    "    net.eval()\n",
    "\n",
    "    # net.qconfig = torch.quantization.get_default_qconfig('fbgemm')\n",
    "    net.qconfig = torch.quantization.get_default_qconfig('x86')\n",
    "\n",
    "    net.fuse_model()\n",
    "\n",
    "    net.train()\n",
    "    net = torch.quantization.prepare_qat(net, inplace=True)\n",
    "\n",
    "    state_dict = torch.load('./model/QAT_ResNet_color/q_RN_step_350.pt', map_location='cpu') # 자기 모델 경로를 지정합니다\n",
    "    \n",
    "    net.cpu().eval()\n",
    "    net_q = torch.quantization.convert(net)\n",
    "\n",
    "    net_q.load_state_dict(state_dict)\n",
    "\n",
    "    df = pd.read_csv('/aif/Dataset/Fashion-How24_sub2_test.csv') # 제출 시 데이터 경로 준수. /aif/ 아래에 있습니다.\n",
    "    val_dataset = ETRIDataset_color(df, base_path='/aif/Dataset/test/') # 제출 시 데이터 경로 준수. /aif/ 아래에 있습니다.\n",
    "    val_dataloader = torch.utils.data.DataLoader(val_dataset, batch_size=64, shuffle=False, num_workers=0) # 반드시 shuffle=False\n",
    "\n",
    "    pred_list = np.array([])\n",
    "\n",
    "    for j, sample in enumerate(val_dataloader):\n",
    "        for key in sample:\n",
    "            # sample[key] = sample[key].to(DEVICE)\n",
    "            sample[key] = sample[key].to('cpu')\n",
    "        out = net_q(sample['image']) # sample -> sample['image']\n",
    "\n",
    "        _, indx = out.max(1)\n",
    "        pred_list = np.concatenate([pred_list, indx.cpu()], axis=0)\n",
    "\n",
    "    # 예측 결과를 dataframe으로 변환한 다음 함수의 결과로 return합니다.\n",
    "    # 'image_name', 'color'의 컬럼명과 image_name의 샘플 순서를 지켜주시기 바랍니다.\n",
    "    # Baseline이 아닌 다른 모델을 사용하는 경우에도 같은 형식의 dataframe으로 return할 수 있도록 합니다.\n",
    "    out = pd.DataFrame({'image_name':df['image_name'],'color':pred_list})\n",
    "\n",
    "    return out # 반드시 추론결과를 return"
   ]
  },
  {
   "cell_type": "markdown",
   "id": "aa3a3a6b",
   "metadata": {},
   "source": [
    "### 3. submit() 함수로 wrapping\n",
    "#### 반드시 아래와 같이 submit() 이라는 함수로 위에 정의된 etri_task2_submit 함수를 wrapping해야 합니다."
   ]
  },
  {
   "cell_type": "code",
   "execution_count": null,
   "id": "f0c87fb3",
   "metadata": {},
   "outputs": [],
   "source": [
    "def submit():\n",
    "    return etri_task2_submit"
   ]
  },
  {
   "cell_type": "markdown",
   "id": "937d1cdf",
   "metadata": {},
   "source": [
    "### 4. if name == \"main\" 조건문을 이용한 제출 수행\n",
    "#### 아래와 같이 if __name__ == \"__main__\" 구문 내에서 제출 함수가 실행되게끔 합니다.\n",
    "#### ※ task별, 참가자별로 key가 다릅니다. 잘못 입력하지 않도록 유의바랍니다.\n",
    "- key는 각팀 팀장분에게 메일로 할당된 계정을 이용하여 task별로 확인하실 수 있습니다."
   ]
  },
  {
   "cell_type": "code",
   "execution_count": null,
   "id": "b3468396",
   "metadata": {
    "scrolled": true
   },
   "outputs": [],
   "source": [
    "import aifactory.score as aif\n",
    "import time\n",
    "t = time.time()\n",
    "if __name__ == \"__main__\":\n",
    "    #-----------------------------------------------------#\n",
    "    aif.submit(model_name=\"etri-task2_test\",               # 본인의 모델명 입력(버전 관리에 용이하게끔 편의에 맞게 지정합니다)\n",
    "               key=\"\",                                  # 본인의 task key 입력\n",
    "               func=submit                            # 3.에서 wrapping한 submit function\n",
    "               )\n",
    "    #-----------------------------------------------------#\n",
    "    print(time.time() - t)"
   ]
  }
 ],
 "metadata": {
  "kernelspec": {
   "display_name": "Python 3 (ipykernel)",
   "language": "python",
   "name": "python3"
  },
  "language_info": {
   "codemirror_mode": {
    "name": "ipython",
    "version": 3
   },
   "file_extension": ".py",
   "mimetype": "text/x-python",
   "name": "python",
   "nbconvert_exporter": "python",
   "pygments_lexer": "ipython3",
   "version": "3.10.11"
  }
 },
 "nbformat": 4,
 "nbformat_minor": 5
}
